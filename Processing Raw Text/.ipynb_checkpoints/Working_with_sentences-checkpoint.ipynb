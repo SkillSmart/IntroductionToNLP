{
 "cells": [
  {
   "cell_type": "code",
   "execution_count": 25,
   "metadata": {
    "collapsed": true
   },
   "outputs": [],
   "source": [
    "%matplotlib inline\n",
    "import matplotlib.pyplot as plt"
   ]
  },
  {
   "cell_type": "markdown",
   "metadata": {},
   "source": [
    "# Working with Sentences\n",
    "In order to make sense of the structure of text, it is important to often look at larger parts of the corpus. \n",
    "This can be done at various levels, easiest at a sentence level. "
   ]
  },
  {
   "cell_type": "code",
   "execution_count": 5,
   "metadata": {
    "collapsed": false
   },
   "outputs": [],
   "source": [
    "# Loading a sample text\n",
    "from urllib import request\n",
    "import nltk\n",
    "\n",
    "# Loading the text from the datasource\n",
    "url = \"https://www.gutenberg.org/files/55463/55463-0.txt\"\n",
    "response = request.urlopen(url)\n",
    "raw = response.read().decode('utf8')"
   ]
  },
  {
   "cell_type": "code",
   "execution_count": 6,
   "metadata": {
    "collapsed": true
   },
   "outputs": [],
   "source": [
    "# Converting the raw text to word tokenized text\n",
    "tokens = nltk.word_tokenize(raw)\n",
    "text = nltk.Text(tokens)\n",
    "\n",
    "# Convert raw text to sentence tokenized text\n",
    "sentence_tokens = nltk.sent_tokenize(raw)\n",
    "text_sentence = nltk.Text(sentence_tokens)"
   ]
  },
  {
   "cell_type": "markdown",
   "metadata": {},
   "source": [
    "### Comparing both versions of Tokenization"
   ]
  },
  {
   "cell_type": "code",
   "execution_count": 17,
   "metadata": {
    "collapsed": false
   },
   "outputs": [
    {
     "name": "stdout",
     "output_type": "stream",
     "text": [
      "\n",
      "::: The result has a type of <class 'nltk.text.Text'>, with a length of 2373\n",
      "\n"
     ]
    },
    {
     "data": {
      "text/plain": [
       "'You can make it if you try.”\\r\\n\\r\\n“You’re the most persistenest person I ever seen!” grumbled James\\r\\nMontague Fortune.'"
      ]
     },
     "execution_count": 17,
     "metadata": {},
     "output_type": "execute_result"
    }
   ],
   "source": [
    "# Sentence based tokenization\n",
    "print('\\n::: The result has a type of {}, with a length of {}\\n'.format(type(text_sentence), len(text_sentence)))\n",
    "text_sentence[101]"
   ]
  },
  {
   "cell_type": "code",
   "execution_count": 18,
   "metadata": {
    "collapsed": false
   },
   "outputs": [
    {
     "name": "stdout",
     "output_type": "stream",
     "text": [
      "\n",
      ":: The result has a type of <class 'nltk.text.Text'>, and a length of 49986\n",
      "\n"
     ]
    },
    {
     "data": {
      "text/plain": [
       "'ebook'"
      ]
     },
     "execution_count": 18,
     "metadata": {},
     "output_type": "execute_result"
    }
   ],
   "source": [
    "# Word based tokenization \n",
    "print('\\n:: The result has a type of {}, and a length of {}\\n'.format(type(text), len(text)))\n",
    "text[101]"
   ]
  },
  {
   "cell_type": "markdown",
   "metadata": {},
   "source": [
    "### Distribution based Indicators"
   ]
  },
  {
   "cell_type": "markdown",
   "metadata": {},
   "source": [
    "#### Investigating Sentence Length"
   ]
  },
  {
   "cell_type": "code",
   "execution_count": 27,
   "metadata": {
    "collapsed": false,
    "scrolled": true
   },
   "outputs": [
    {
     "data": {
      "text/plain": [
       "[<matplotlib.lines.Line2D at 0x20cc44a9710>]"
      ]
     },
     "execution_count": 27,
     "metadata": {},
     "output_type": "execute_result"
    },
    {
     "data": {
      "image/png": "[encoded data removed]",
      "text/plain": [
       "<matplotlib.figure.Figure at 0x20cc41a62b0>"
      ]
     },
     "metadata": {},
     "output_type": "display_data"
    }
   ],
   "source": [
    "import numpy as np\n",
    "\n",
    "sent_length = [len(s) for s in text_sentence]\n",
    "# Investigating the lenght distribution of the Text\n",
    "plt.plot(sent_length)"
   ]
  },
  {
   "cell_type": "markdown",
   "metadata": {},
   "source": [
    "#### Describing Distribution measures of Sentence Length"
   ]
  },
  {
   "cell_type": "code",
   "execution_count": 30,
   "metadata": {
    "collapsed": false
   },
   "outputs": [
    {
     "name": "stdout",
     "output_type": "stream",
     "text": [
      "The Sentences have:\n",
      "Mean:::93.77496839443742\n",
      "STD:::71.18425677500342\n",
      "Min:::2\n",
      "MAX:::746\n"
     ]
    }
   ],
   "source": [
    "# Describing distribution \n",
    "print('The Sentences have:\\nMean:::{}\\nSTD:::{}\\nMin:::{}\\nMAX:::{}'.format(np.mean(sent_length), np.std(sent_length), np.min(sent_length), np.max(sent_length)))"
   ]
  },
  {
   "cell_type": "markdown",
   "metadata": {},
   "source": [
    "### Investigating Distribution of word length"
   ]
  },
  {
   "cell_type": "code",
   "execution_count": 66,
   "metadata": {
    "collapsed": true
   },
   "outputs": [],
   "source": [
    "# Counting the number of long word\n",
    "def long_words(words, cutoff=5):\n",
    "     return [w for w in text if len(w) > cutoff]"
   ]
  },
  {
   "cell_type": "code",
   "execution_count": 164,
   "metadata": {
    "collapsed": false
   },
   "outputs": [],
   "source": [
    "# Creating a frequency count for all words in text\n",
    "freq_dict = nltk.FreqDist(long_words(tokens))\n",
    "\n",
    "# Subsetting the max 100 Frequent words\n",
    "freq_dict = sorted(freq_dict.items(), key=lambda x: x[1], reverse=True)\n",
    "freq_words = [k for k,v in freq_dict][:100]\n",
    "\n",
    "# Subsettint the max 100 infrequent words\n",
    "infreq_words = [k for k,v in freq_dict[-1000:]]"
   ]
  },
  {
   "cell_type": "markdown",
   "metadata": {},
   "source": [
    "### Investigating Distribution of common words\n",
    "\n",
    "Here i am counting up the number of occurences of the most common words with a length > 5"
   ]
  },
  {
   "cell_type": "code",
   "execution_count": 167,
   "metadata": {
    "collapsed": false
   },
   "outputs": [],
   "source": [
    "# Create the count how many most frequent words we find per sentence\n",
    "def count_freq(sentence):\n",
    "    cnt = 0\n",
    "    for word in sentence:\n",
    "        if word in freq_words:\n",
    "            cnt += 1\n",
    "    return cnt\n",
    "\n",
    "# Apply count to all sentences\n",
    "sentence_freq = list(map(count_freq, map(nltk.word_tokenize, text_sentence)))"
   ]
  },
  {
   "cell_type": "code",
   "execution_count": 168,
   "metadata": {
    "collapsed": false
   },
   "outputs": [
    {
     "data": {
      "text/plain": [
       "[<matplotlib.lines.Line2D at 0x20cc8b3ee48>]"
      ]
     },
     "execution_count": 168,
     "metadata": {},
     "output_type": "execute_result"
    },
    {
     "data": {
      "image/png": "[encoded data removed]",
      "text/plain": [
       "<matplotlib.figure.Figure at 0x20cc8a259b0>"
      ]
     },
     "metadata": {},
     "output_type": "display_data"
    }
   ],
   "source": [
    "# Displaying the distribution of most frequent used words troughout the text\n",
    "plt.plot(sentence_freq)"
   ]
  },
  {
   "cell_type": "markdown",
   "metadata": {},
   "source": [
    "### Investigating the Distribution of uncommon words\n",
    "\n",
    "Let's turn it around and investigate the occurences of uncommon words troughout the text"
   ]
  },
  {
   "cell_type": "code",
   "execution_count": 169,
   "metadata": {
    "collapsed": false
   },
   "outputs": [],
   "source": [
    "# Create the count of the least common words\n",
    "def count_infreq(sentence):\n",
    "    cnt = 0\n",
    "    for w in sentence:\n",
    "        if w in infreq_words:\n",
    "            cnt += 1\n",
    "    return cnt\n",
    "\n",
    "sentence_infreq = list(map(count_infreq, map(nltk.word_tokenize, text_sentence)))"
   ]
  },
  {
   "cell_type": "code",
   "execution_count": 170,
   "metadata": {
    "collapsed": false
   },
   "outputs": [
    {
     "data": {
      "text/plain": [
       "[<matplotlib.lines.Line2D at 0x20cc8bcd400>]"
      ]
     },
     "execution_count": 170,
     "metadata": {},
     "output_type": "execute_result"
    },
    {
     "data": {
      "image/png": "[encoded data removed]",
      "text/plain": [
       "<matplotlib.figure.Figure at 0x20cc8b6a1d0>"
      ]
     },
     "metadata": {},
     "output_type": "display_data"
    }
   ],
   "source": [
    "plt.plot(sentence_infreq)"
   ]
  },
  {
   "cell_type": "markdown",
   "metadata": {},
   "source": [
    "### Calculating the word count of frequency words based on overall sentence length\n",
    "\n",
    "It seems the length of the sentences strongly correlates with the number of frequent and unfrequently used words in the corpus. \n",
    "\n",
    "By standardizing the count on the overall sentence length, we might be able to clean up this part a bit."
   ]
  },
  {
   "cell_type": "code",
   "execution_count": 171,
   "metadata": {
    "collapsed": false
   },
   "outputs": [],
   "source": [
    "def count_infreq_clean(sentence):\n",
    "    length = len(sentence)\n",
    "    cnt = 0\n",
    "    for w in sentence:\n",
    "        if w in infreq_words:\n",
    "            cnt += 1\n",
    "    return cnt / length\n",
    "\n",
    "sentence_infreq_clean = list(map(count_infreq_clean, map(nltk.word_tokenize, text_sentence)))\n"
   ]
  },
  {
   "cell_type": "code",
   "execution_count": 172,
   "metadata": {
    "collapsed": false
   },
   "outputs": [
    {
     "data": {
      "text/plain": [
       "[<matplotlib.lines.Line2D at 0x20cc8c5d518>]"
      ]
     },
     "execution_count": 172,
     "metadata": {},
     "output_type": "execute_result"
    },
    {
     "data": {
      "image/png": "[encoded data removed]",
      "text/plain": [
       "<matplotlib.figure.Figure at 0x20cc8b8c240>"
      ]
     },
     "metadata": {},
     "output_type": "display_data"
    }
   ],
   "source": [
    "plt.plot(sentence_infreq_clean)"
   ]
  },
  {
   "cell_type": "code",
   "execution_count": 173,
   "metadata": {
    "collapsed": false
   },
   "outputs": [
    {
     "data": {
      "text/plain": [
       "[<matplotlib.lines.Line2D at 0x20cc8d012b0>]"
      ]
     },
     "execution_count": 173,
     "metadata": {},
     "output_type": "execute_result"
    },
    {
     "data": {
      "image/png": "[encoded data removed]",
      "text/plain": [
       "<matplotlib.figure.Figure at 0x20cc8c7a4e0>"
      ]
     },
     "metadata": {},
     "output_type": "display_data"
    }
   ],
   "source": [
    "def count_freq_clean(sentence):\n",
    "    length = len(sentence)\n",
    "    cnt = 0\n",
    "    for w in sentence:\n",
    "        if w in freq_words:\n",
    "            cnt += 1\n",
    "    return cnt / length\n",
    "\n",
    "plt.plot(list(map(count_freq_clean, map(nltk.word_tokenize, text_sentence))))"
   ]
  },
  {
   "cell_type": "code",
   "execution_count": null,
   "metadata": {
    "collapsed": true
   },
   "outputs": [],
   "source": []
  },
  {
   "cell_type": "code",
   "execution_count": null,
   "metadata": {
    "collapsed": true
   },
   "outputs": [],
   "source": []
  },
  {
   "cell_type": "code",
   "execution_count": null,
   "metadata": {
    "collapsed": true
   },
   "outputs": [],
   "source": []
  },
  {
   "cell_type": "code",
   "execution_count": null,
   "metadata": {
    "collapsed": true
   },
   "outputs": [],
   "source": []
  },
  {
   "cell_type": "code",
   "execution_count": null,
   "metadata": {
    "collapsed": true
   },
   "outputs": [],
   "source": []
  }
 ],
 "metadata": {
  "kernelspec": {
   "display_name": "Python [default]",
   "language": "python",
   "name": "python3"
  },
  "language_info": {
   "codemirror_mode": {
    "name": "ipython",
    "version": 3
   },
   "file_extension": ".py",
   "mimetype": "text/x-python",
   "name": "python",
   "nbconvert_exporter": "python",
   "pygments_lexer": "ipython3",
   "version": "3.6.0"
  }
 },
 "nbformat": 4,
 "nbformat_minor": 2
}
