{
 "cells": [
  {
   "cell_type": "markdown",
   "metadata": {},
   "source": [
    "# Entity Recognition\n",
    "\n"
   ]
  },
  {
   "cell_type": "code",
   "execution_count": 1,
   "metadata": {
    "collapsed": true
   },
   "outputs": [],
   "source": [
    "# Basic Imports\n",
    "import os\n",
    "from urllib import request\n",
    "from bs4 import BeautifulSoup\n",
    "import nltk\n",
    "from nltk.tag.stanford import StanfordNERTagger\n",
    "from nltk.chunk import conlltags2tree, tree2conlltags"
   ]
  },
  {
   "cell_type": "code",
   "execution_count": 2,
   "metadata": {
    "collapsed": true
   },
   "outputs": [],
   "source": [
    "# Loading the Stanford NER Tagger\n",
    "stanf_ner = StanfordNERTagger(\"./models/stanford-ner/classifiers/english.muc.7class.distsim.crf.ser.gz\", \"./models/stanford-ner/stanford-ner.jar\", encoding='utf8')"
   ]
  },
  {
   "cell_type": "markdown",
   "metadata": {},
   "source": [
    "## Extracting Named Entities from WebSource Textdata\n",
    "\n",
    "The pipeline includes:\n",
    "\n",
    "1) Preprocessing of the Textsource\n",
    "- Downloading the Text from source\n",
    "- Extracting p and h tags from the DOM\n",
    "- Cleaning and encoding the Text string\n",
    "\n",
    "2) NLP Annotation\n",
    "- Tokenizing the string into word tokens\n",
    "- Adding Part-of-speech Tags to the Tokens\n",
    "- Parsing a grammatical Tree from the POS annotated Tokens\n",
    "- Identifying Named Entitities from the Parsetree\n",
    "- Converting the Parsetree into BOI annotated Named Entities, to identify multiple word Entities"
   ]
  },
  {
   "cell_type": "code",
   "execution_count": 122,
   "metadata": {
    "collapsed": false
   },
   "outputs": [],
   "source": [
    "def parse_page(url, tokenize=True, ne_tag=True, export_tree=False):\n",
    "    \"Opens a url and parses the header and p tag enclosed text and performs NER\"\n",
    "    \n",
    "    # Return a clean list of extraced NE's\n",
    "    def structure_ne(ne_tree):\n",
    "        ne = []\n",
    "        for subtree in ne_tree:\n",
    "            if type(subtree) == nltk.tree.Tree:\n",
    "                ne_label = subtree.label()\n",
    "                ne_string = \" \".join([token for token, pos in subtree.leaves()])\n",
    "                ne.append((ne_string, ne_label))\n",
    "        return ne\n",
    "    \n",
    "    \n",
    "    # Make sure tokenization is enabled when tagging\n",
    "    if ne_tag: tokenize = True\n",
    "    \n",
    "    # Open the file and preprocess html text\n",
    "    response = request.urlopen('http://www.newsweek.com/trump-not-popular-hillary-clinton-even-worse-approval-rating-polls-661070')\n",
    "    raw = response.read()\n",
    "    soup = BeautifulSoup(raw, \"lxml\")\n",
    "    \n",
    "    # Extract text from DOM\n",
    "    title = soup.find('h1').get_text()\n",
    "    paragraphs = [para.get_text() for para in soup.select('p')]\n",
    "\n",
    "    if tokenize:\n",
    "        text =  nltk.word_tokenize(title +\" \" + ' '.join(paragraphs))\n",
    "    \n",
    "    if ne_tag:\n",
    "        # POS\n",
    "        tagged_words = nltk.pos_tag(text)\n",
    "        # Parse Tree\n",
    "        ne_tagged = nltk.ne_chunk(tagged_words)\n",
    "        if export_tree:\n",
    "            return structure_ne(ne_tagged )\n",
    "        else:\n",
    "            # Return TExt\n",
    "            return tree2conlltags(ne_tagged)\n",
    "        "
   ]
  },
  {
   "cell_type": "markdown",
   "metadata": {},
   "source": [
    "### Test the Named Entity Extraction "
   ]
  },
  {
   "cell_type": "code",
   "execution_count": 123,
   "metadata": {
    "collapsed": false
   },
   "outputs": [
    {
     "data": {
      "text/plain": [
       "[('Donald', 'PERSON'),\n",
       " ('Trump', 'ORGANIZATION'),\n",
       " ('Popular', 'PERSON'),\n",
       " ('Hillary Clinton Is', 'PERSON'),\n",
       " ('Donald', 'PERSON'),\n",
       " ('State', 'ORGANIZATION'),\n",
       " ('Clinton', 'PERSON'),\n",
       " ('Mediaite', 'ORGANIZATION'),\n",
       " ('Trump', 'PERSON'),\n",
       " ('Hillary Clinton', 'PERSON'),\n",
       " ('American', 'GPE'),\n",
       " ('Trump', 'PERSON'),\n",
       " ('Donald Trump', 'PERSON'),\n",
       " ('Democratic', 'ORGANIZATION'),\n",
       " ('Hillary Clinton', 'PERSON'),\n",
       " ('Washington University', 'ORGANIZATION'),\n",
       " ('St. Louis', 'GPE'),\n",
       " ('Rick', 'PERSON'),\n",
       " ('NBC', 'ORGANIZATION'),\n",
       " ('Trump', 'PERSON'),\n",
       " ('Charlottesville', 'GPE'),\n",
       " ('Virginia—and', 'GPE'),\n",
       " ('U.S.', 'GPE'),\n",
       " ('Trump', 'PERSON'),\n",
       " ('FiveThirtyEight', 'ORGANIZATION'),\n",
       " ('FiveThirtyEight', 'ORGANIZATION'),\n",
       " ('Gerald Ford', 'PERSON'),\n",
       " ('Trump', 'PERSON'),\n",
       " ('Barack Obama', 'PERSON'),\n",
       " ('Obama', 'PERSON'),\n",
       " ('Clinton', 'PERSON'),\n",
       " ('Trump', 'PERSON'),\n",
       " ('Trump', 'PERSON'),\n",
       " ('James Comey', 'PERSON'),\n",
       " ('Hillary Clinton', 'PERSON'),\n",
       " ('Trump', 'PERSON'),\n",
       " ('Obama', 'PERSON'),\n",
       " ('Deferred Action', 'ORGANIZATION'),\n",
       " ('Childhood Arrivals', 'ORGANIZATION'),\n",
       " ('Obama', 'PERSON'),\n",
       " ('Congress', 'ORGANIZATION'),\n",
       " ('DACA', 'ORGANIZATION'),\n",
       " ('Obama Administration', 'ORGANIZATION'),\n",
       " ('Trump', 'PERSON'),\n",
       " ('Obama', 'PERSON'),\n",
       " ('NBC', 'ORGANIZATION'),\n",
       " ('Trump', 'PERSON'),\n",
       " ('Clinton', 'PERSON'),\n",
       " ('Joe Biden', 'PERSON'),\n",
       " ('Vermont Senator Bernie Sanders', 'PERSON'),\n",
       " ('FBI', 'ORGANIZATION'),\n",
       " ('James Comey', 'PERSON'),\n",
       " ('Weekly', 'PERSON'),\n",
       " ('Daily Newsletter Website', 'PERSON'),\n",
       " ('Weekly', 'PERSON'),\n",
       " ('Daily Newsletter Website', 'PERSON'),\n",
       " ('Daily Newsletter', 'PERSON'),\n",
       " ('Newsweek', 'ORGANIZATION')]"
      ]
     },
     "execution_count": 123,
     "metadata": {},
     "output_type": "execute_result"
    }
   ],
   "source": [
    "# \n",
    "tokens = parse_page(\"http://www.newsweek.com/trump-administration-backing-baker-who-refused-make-wedding-cake-gay-couple-661554\", \n",
    "                    tokenize=True, \n",
    "                    ne_tag=True,\n",
    "                    export_tree=True)\n",
    "tokens"
   ]
  },
  {
   "cell_type": "code",
   "execution_count": null,
   "metadata": {
    "collapsed": true
   },
   "outputs": [],
   "source": []
  }
 ],
 "metadata": {
  "kernelspec": {
   "display_name": "Python [default]",
   "language": "python",
   "name": "python3"
  },
  "language_info": {
   "codemirror_mode": {
    "name": "ipython",
    "version": 3
   },
   "file_extension": ".py",
   "mimetype": "text/x-python",
   "name": "python",
   "nbconvert_exporter": "python",
   "pygments_lexer": "ipython3",
   "version": "3.6.0"
  }
 },
 "nbformat": 4,
 "nbformat_minor": 2
}
