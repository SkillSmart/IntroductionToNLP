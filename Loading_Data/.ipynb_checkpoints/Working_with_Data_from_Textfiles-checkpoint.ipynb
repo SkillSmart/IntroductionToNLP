{
 "cells": [
  {
   "cell_type": "markdown",
   "metadata": {},
   "source": [
    "# How to work with Data from Textfiles"
   ]
  },
  {
   "cell_type": "code",
   "execution_count": 42,
   "metadata": {
    "collapsed": true
   },
   "outputs": [],
   "source": [
    "# Basic imports\n",
    "import os\n",
    "import nltk\n",
    "import json"
   ]
  },
  {
   "cell_type": "code",
   "execution_count": 9,
   "metadata": {
    "collapsed": false
   },
   "outputs": [
    {
     "name": "stdout",
     "output_type": "stream",
     "text": [
      "D:\\AAA_ProgrammingFiles\\AAA_Learning\\AAA_Moocs\\Coursera_NLP-Introduction\\Loading_Data\\data\n",
      "[]\n"
     ]
    }
   ],
   "source": [
    "# Inspecting the datasources available\n",
    "\n",
    "#os.chdir('./data')\n",
    "print(os.getcwd())\n",
    "print(os.listdir())"
   ]
  },
  {
   "cell_type": "code",
   "execution_count": 14,
   "metadata": {
    "collapsed": false
   },
   "outputs": [],
   "source": [
    "# Creating a bunch of testfiles to work with\n",
    "text = \"This is a test text file\"\n",
    "\n",
    "for i in range(10):\n",
    "    with open('testfile{}.txt'.format(i), 'w') as f:\n",
    "        f.write(text)"
   ]
  },
  {
   "cell_type": "code",
   "execution_count": 15,
   "metadata": {
    "collapsed": false
   },
   "outputs": [
    {
     "data": {
      "text/plain": [
       "['testfile0.txt',\n",
       " 'testfile1.txt',\n",
       " 'testfile2.txt',\n",
       " 'testfile3.txt',\n",
       " 'testfile4.txt',\n",
       " 'testfile5.txt',\n",
       " 'testfile6.txt',\n",
       " 'testfile7.txt',\n",
       " 'testfile8.txt',\n",
       " 'testfile9.txt']"
      ]
     },
     "execution_count": 15,
     "metadata": {},
     "output_type": "execute_result"
    }
   ],
   "source": [
    "os.listdir()"
   ]
  },
  {
   "cell_type": "code",
   "execution_count": 19,
   "metadata": {
    "collapsed": false
   },
   "outputs": [
    {
     "data": {
      "text/plain": [
       "['This is a test text file']"
      ]
     },
     "execution_count": 19,
     "metadata": {},
     "output_type": "execute_result"
    }
   ],
   "source": [
    "# Combine all text files into a single corpus\n",
    "def read_file(file):\n",
    "    with open(file) as f:\n",
    "        return f.readlines()\n",
    "\n",
    "# Testing the function\n",
    "read_file(os.listdir()[0])"
   ]
  },
  {
   "cell_type": "code",
   "execution_count": 23,
   "metadata": {
    "collapsed": false
   },
   "outputs": [],
   "source": [
    "# Apply it to all files\n",
    "corpus = list(map(read_file, os.listdir()))"
   ]
  },
  {
   "cell_type": "code",
   "execution_count": 33,
   "metadata": {
    "collapsed": false
   },
   "outputs": [
    {
     "data": {
      "text/plain": [
       "[['This', 'is', 'a', 'test', 'text', 'file'],\n",
       " ['This', 'is', 'a', 'test', 'text', 'file'],\n",
       " ['This', 'is', 'a', 'test', 'text', 'file'],\n",
       " ['This', 'is', 'a', 'test', 'text', 'file'],\n",
       " ['This', 'is', 'a', 'test', 'text', 'file'],\n",
       " ['This', 'is', 'a', 'test', 'text', 'file'],\n",
       " ['This', 'is', 'a', 'test', 'text', 'file'],\n",
       " ['This', 'is', 'a', 'test', 'text', 'file'],\n",
       " ['This', 'is', 'a', 'test', 'text', 'file'],\n",
       " ['This', 'is', 'a', 'test', 'text', 'file']]"
      ]
     },
     "execution_count": 33,
     "metadata": {},
     "output_type": "execute_result"
    }
   ],
   "source": [
    "# And now extract word tokens\n",
    "word_tokens = [nltk.word_tokenize(sentence) for text in corpus for sentence in text]\n",
    "word_tokens"
   ]
  },
  {
   "cell_type": "markdown",
   "metadata": {},
   "source": [
    "## Creating a dict from the Text"
   ]
  },
  {
   "cell_type": "code",
   "execution_count": 39,
   "metadata": {
    "collapsed": false
   },
   "outputs": [
    {
     "data": {
      "text/plain": [
       "FreqDist({'This': 10, 'a': 10, 'file': 10, 'is': 10, 'test': 10, 'text': 10})"
      ]
     },
     "execution_count": 39,
     "metadata": {},
     "output_type": "execute_result"
    }
   ],
   "source": [
    "# In order to easily access the words for further analysis we can create a dict representation\n",
    "freq_dict = nltk.FreqDist([word for sentence in word_tokens for word in sentence])\n",
    "freq_dict"
   ]
  },
  {
   "cell_type": "markdown",
   "metadata": {},
   "source": [
    "### Serializing to and from JSON"
   ]
  },
  {
   "cell_type": "code",
   "execution_count": 45,
   "metadata": {
    "collapsed": false
   },
   "outputs": [],
   "source": [
    "# Now we can dump the file to JSON to store the Data\n",
    "def dump_to_json(dictionary, destination):\n",
    "    with open('{}.json'.format(destination), 'w') as fp:\n",
    "        json.dump(dictionary, fp)\n"
   ]
  },
  {
   "cell_type": "code",
   "execution_count": 46,
   "metadata": {
    "collapsed": false
   },
   "outputs": [],
   "source": [
    "# Save Dict to JSON\n",
    "dump_to_json(freq_dict, 'frequency_count')"
   ]
  },
  {
   "cell_type": "code",
   "execution_count": 47,
   "metadata": {
    "collapsed": true
   },
   "outputs": [],
   "source": [
    "# Reload the Dict from JSON\n",
    "def load_from_json(file):\n",
    "    with open(file, 'r') as f:\n",
    "        return json.load(f)"
   ]
  },
  {
   "cell_type": "code",
   "execution_count": 48,
   "metadata": {
    "collapsed": true
   },
   "outputs": [],
   "source": [
    "# Load from JSON\n",
    "dic = load_from_json('frequency_count.json')"
   ]
  },
  {
   "cell_type": "code",
   "execution_count": 49,
   "metadata": {
    "collapsed": false
   },
   "outputs": [
    {
     "data": {
      "text/plain": [
       "{'This': 10, 'a': 10, 'file': 10, 'is': 10, 'test': 10, 'text': 10}"
      ]
     },
     "execution_count": 49,
     "metadata": {},
     "output_type": "execute_result"
    }
   ],
   "source": [
    "dic"
   ]
  },
  {
   "cell_type": "code",
   "execution_count": null,
   "metadata": {
    "collapsed": true
   },
   "outputs": [],
   "source": []
  }
 ],
 "metadata": {
  "kernelspec": {
   "display_name": "Python [default]",
   "language": "python",
   "name": "python3"
  },
  "language_info": {
   "codemirror_mode": {
    "name": "ipython",
    "version": 3
   },
   "file_extension": ".py",
   "mimetype": "text/x-python",
   "name": "python",
   "nbconvert_exporter": "python",
   "pygments_lexer": "ipython3",
   "version": "3.6.0"
  }
 },
 "nbformat": 4,
 "nbformat_minor": 2
}
