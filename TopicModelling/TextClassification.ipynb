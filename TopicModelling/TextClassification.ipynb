{
 "cells": [
  {
   "cell_type": "markdown",
   "metadata": {},
   "source": [
    "# Text Classification\n",
    "\n",
    "Date: 05/09/2017 <br>\n",
    "Author: Frank Fichtenmueller <br>\n",
    "<hr>\n",
    "Goal: To display the available Text Classification Algorithms and their application to a practical szenario. Detailed implementations on different szenarios are left to the following deep Dives.<br>\n",
    "\n",
    "* Solution 1\n",
    "* Solution 2"
   ]
  },
  {
   "cell_type": "markdown",
   "metadata": {},
   "source": [
    "## Similarity Metrics for Document Similiarity Measurement"
   ]
  },
  {
   "cell_type": "markdown",
   "metadata": {},
   "source": [
    "### Cosine Distance "
   ]
  },
  {
   "cell_type": "code",
   "execution_count": 1,
   "metadata": {
    "collapsed": true
   },
   "outputs": [],
   "source": [
    "# Basic Imports\n",
    "import nltk\n",
    "from sklearn.feature_extraction.text import TfidfVectorizer"
   ]
  },
  {
   "cell_type": "code",
   "execution_count": 23,
   "metadata": {
    "collapsed": false
   },
   "outputs": [],
   "source": [
    "mydoclist = ['Julie loves me more than Linda loves me',\n",
    "'Jane likes me more than Julie loves me',\n",
    "'He likes basketball more than baseball',\n",
    "'After Julie told me she loved me, i forgot about Linda',\n",
    "'For the president it is easy to fool everyone']\n",
    "\n",
    "tfidf_vect = TfidfVectorizer(min_df=1)\n",
    "tfidf_matrix = tfidf_vect.fit_transform(mydoclist)"
   ]
  },
  {
   "cell_type": "code",
   "execution_count": 24,
   "metadata": {
    "collapsed": false
   },
   "outputs": [
    {
     "data": {
      "text/plain": [
       "<5x26 sparse matrix of type '<class 'numpy.float64'>'\n",
       "\twith 37 stored elements in Compressed Sparse Row format>"
      ]
     },
     "execution_count": 24,
     "metadata": {},
     "output_type": "execute_result"
    }
   ],
   "source": [
    "# This creates a sparse matrix output\n",
    "tfidf_matrix"
   ]
  },
  {
   "cell_type": "code",
   "execution_count": 25,
   "metadata": {
    "collapsed": false
   },
   "outputs": [
    {
     "name": "stdout",
     "output_type": "stream",
     "text": [
      "Created a 5 by 5 document-document cosine distance matrix.\n",
      "[[ 1.          0.75296343  0.16634352  0.38370096  0.        ]\n",
      " [ 0.75296343  1.          0.31116527  0.32236902  0.        ]\n",
      " [ 0.16634352  0.31116527  1.          0.          0.        ]\n",
      " [ 0.38370096  0.32236902  0.          1.          0.        ]\n",
      " [ 0.          0.          0.          0.          1.        ]]\n"
     ]
    }
   ],
   "source": [
    "# We can use it do calculate documnet distances\n",
    "document_distances = (tfidf_matrix * tfidf_matrix.T)\n",
    "\n",
    "# And print the result\n",
    "print ('Created a ' + str(document_distances.get_shape()[0]) + ' by ' + str(document_distances.get_shape()[1]) + ' document-document cosine distance matrix.')\n",
    "print(document_distances.toarray())"
   ]
  },
  {
   "cell_type": "markdown",
   "metadata": {},
   "source": [
    "### Finding similiar Documents"
   ]
  },
  {
   "cell_type": "code",
   "execution_count": 28,
   "metadata": {
    "collapsed": true
   },
   "outputs": [],
   "source": [
    "from sklearn.metrics.pairwise import linear_kernel\n",
    "\n",
    "cosine_similiarities = linear_kernel(tfidf_matrix[0:1], tfidf_matrix).flatten()\n",
    "related_docs_indices = cosine_similiarities.argsort()[:-len(mydoclist)-1:-1]"
   ]
  },
  {
   "cell_type": "code",
   "execution_count": 29,
   "metadata": {
    "collapsed": false
   },
   "outputs": [
    {
     "name": "stdout",
     "output_type": "stream",
     "text": [
      "['Julie loves me more than Linda loves me', 'Jane likes me more than Julie loves me', 'He likes basketball more than baseball', 'After Julie told me she loved me, i forgot about Linda', 'For the president it is easy to fool everyone']\n",
      "[ 1.          0.75296343  0.38370096  0.16634352  0.        ]\n"
     ]
    }
   ],
   "source": [
    "print(mydoclist)\n",
    "print(cosine_similiarities[related_docs_indices])"
   ]
  },
  {
   "cell_type": "code",
   "execution_count": null,
   "metadata": {
    "collapsed": true
   },
   "outputs": [],
   "source": []
  }
 ],
 "metadata": {
  "kernelspec": {
   "display_name": "Python [default]",
   "language": "python",
   "name": "python3"
  },
  "language_info": {
   "codemirror_mode": {
    "name": "ipython",
    "version": 3
   },
   "file_extension": ".py",
   "mimetype": "text/x-python",
   "name": "python",
   "nbconvert_exporter": "python",
   "pygments_lexer": "ipython3",
   "version": "3.6.0"
  }
 },
 "nbformat": 4,
 "nbformat_minor": 2
}
