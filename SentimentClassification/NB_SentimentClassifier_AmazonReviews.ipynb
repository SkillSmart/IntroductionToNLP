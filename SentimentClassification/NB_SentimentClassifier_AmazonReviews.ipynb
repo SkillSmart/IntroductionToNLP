{
 "cells": [
  {
   "cell_type": "markdown",
   "metadata": {},
   "source": [
    "# NB_SentimentClassifier_AmazonReviews\n",
    "\n",
    "Author: Frank Fichtenmueller <br>\n",
    "Date: 06/09/2017<br>\n",
    "\n",
    "This is an example implementation of Amazon Review Data\n",
    "\n",
    "Programmatic Structure:\n",
    "- Generate a csv readout of the Customer Reviews for the Product\n",
    "- load the reviews into a dict for easy access\n"
   ]
  },
  {
   "cell_type": "markdown",
   "metadata": {},
   "source": [
    "Given a list of review texts, we create a dictionary for each review {field_source: review_text}"
   ]
  },
  {
   "cell_type": "code",
   "execution_count": null,
   "metadata": {
    "collapsed": true
   },
   "outputs": [],
   "source": [
    "import os\n",
    "import csv\n",
    "\n",
    "os.chdir()\n",
    "\n",
    "amazon_reviews = []\n",
    "target_labels = []\n",
    "\n",
    "for infile in os.listdir(os.path.join(os.getcwd())):\n",
    "    if infile.endswith('csv'):\n",
    "        label = infile.split('.')[0]\n",
    "        target_labels.append(label)\n",
    "    \n",
    "        with open(infile, 'rb') as csvfile:\n",
    "            amazon_reader = csv.DictReader(csvfile, delimiter=',')\n",
    "            infile_rows = [{label: row['review_text']} for row in amazon_reader]\n",
    "        \n",
    "        for doc in infile_rows:\n",
    "            amazon_reviews.append(doc)\n",
    "            \n",
    "print('There are ', str(len(amazon_reviews)), ' total reviews')\n",
    "print('The labels are ', ', '.join(target_labels), '.')"
   ]
  },
  {
   "cell_type": "markdown",
   "metadata": {},
   "source": [
    "### Build the classifier"
   ]
  },
  {
   "cell_type": "code",
   "execution_count": null,
   "metadata": {
    "collapsed": true
   },
   "outputs": [],
   "source": [
    "# Shuffle the training data\n",
    "from random import shuffle\n",
    "x = [amazon_reviews[i] for i in range(len(amazon_reviews))]\n",
    "shuffle(x)"
   ]
  },
  {
   "cell_type": "code",
   "execution_count": null,
   "metadata": {
    "collapsed": true
   },
   "outputs": [],
   "source": [
    "from sklearn.naive_bayes import MultinomialNB\n",
    "from sklearn.cross_validation import train_test_split\n",
    "from sklearn import metrics\n",
    "from sklearn.feature_extraction.text import TfidfVectorizer\n",
    "from operator import itemgetter\n",
    "\n",
    "# Generate a train test split\n",
    "data = np.array([''.join(el.values()) for el in x])\n",
    "targets = np.array([''.join(el.keys()) for el in x])\n",
    "\n",
    "X_train, X_test, y_train, y_test = train_test_split()\n",
    "\n",
    "# Vectorize the training data to numerical representation\n",
    "vectorizer = TfidfVectorizer.fit_transform(min_df=1,\n",
    "                                           ngram_range=(1, 1),\n",
    "                                           stop_words='english',\n",
    "                                           strip_accents='unicode',\n",
    "                                           norm='l2')\n",
    "X_train = vectorizer.fit_transform(X_train)\n",
    "X_test = vectorizer.fit_transform(X_test)"
   ]
  },
  {
   "cell_type": "code",
   "execution_count": null,
   "metadata": {
    "collapsed": true
   },
   "outputs": [],
   "source": [
    "# Train the classifier\n",
    "clf_nb = MulitnomialNB().fit(X_train, y_train)\n",
    "y_predicted = classifier.predict(X_test)"
   ]
  },
  {
   "cell_type": "markdown",
   "metadata": {},
   "source": [
    "### Evaluate Classifier Performance"
   ]
  },
  {
   "cell_type": "code",
   "execution_count": null,
   "metadata": {
    "collapsed": true
   },
   "outputs": [],
   "source": [
    "# Evaluate Performance\n",
    "print('Precision:: ', str(metrics.precision_score(y_test, y_predicted)))\n",
    "print('Recal:: ', str(metrics.recall_score(y_test, y_predicted)))\n",
    "print('F1 Score:: ', str(metrics.f1_score(y_test, y_predicted)))\n",
    "\n",
    "print('\\n\\nConfusion Matrix:::: ')\n",
    "print(metrics.confusion_matrix(y_test, y_predicted))"
   ]
  },
  {
   "cell_type": "code",
   "execution_count": null,
   "metadata": {
    "collapsed": true
   },
   "outputs": [],
   "source": [
    "# Evaluate the most important features per class\n",
    "N = 10\n",
    "vocabulary = np.array([t for t,i in sorted(vectorizer.vocabulary_.iteritems(), key=itemgetter(1))])"
   ]
  }
 ],
 "metadata": {
  "kernelspec": {
   "display_name": "Python [default]",
   "language": "python",
   "name": "python3"
  },
  "language_info": {
   "codemirror_mode": {
    "name": "ipython",
    "version": 3
   },
   "file_extension": ".py",
   "mimetype": "text/x-python",
   "name": "python",
   "nbconvert_exporter": "python",
   "pygments_lexer": "ipython3",
   "version": "3.6.0"
  }
 },
 "nbformat": 4,
 "nbformat_minor": 2
}
